{
 "cells": [
  {
   "cell_type": "code",
   "execution_count": 1,
   "metadata": {},
   "outputs": [],
   "source": [
    "import numpy as np\n",
    "import pandas as pd\n",
    "import matplotlib.pyplot as plt\n",
    "%matplotlib inline"
   ]
  },
  {
   "cell_type": "code",
   "execution_count": 2,
   "metadata": {},
   "outputs": [
    {
     "data": {
      "text/html": [
       "<div>\n",
       "<style scoped>\n",
       "    .dataframe tbody tr th:only-of-type {\n",
       "        vertical-align: middle;\n",
       "    }\n",
       "\n",
       "    .dataframe tbody tr th {\n",
       "        vertical-align: top;\n",
       "    }\n",
       "\n",
       "    .dataframe thead th {\n",
       "        text-align: right;\n",
       "    }\n",
       "</style>\n",
       "<table border=\"1\" class=\"dataframe\">\n",
       "  <thead>\n",
       "    <tr style=\"text-align: right;\">\n",
       "      <th></th>\n",
       "      <th>age</th>\n",
       "      <th>affordibility</th>\n",
       "      <th>bought_insurance</th>\n",
       "    </tr>\n",
       "  </thead>\n",
       "  <tbody>\n",
       "    <tr>\n",
       "      <th>0</th>\n",
       "      <td>22</td>\n",
       "      <td>1</td>\n",
       "      <td>0</td>\n",
       "    </tr>\n",
       "    <tr>\n",
       "      <th>1</th>\n",
       "      <td>25</td>\n",
       "      <td>0</td>\n",
       "      <td>0</td>\n",
       "    </tr>\n",
       "    <tr>\n",
       "      <th>2</th>\n",
       "      <td>47</td>\n",
       "      <td>1</td>\n",
       "      <td>1</td>\n",
       "    </tr>\n",
       "    <tr>\n",
       "      <th>3</th>\n",
       "      <td>52</td>\n",
       "      <td>0</td>\n",
       "      <td>0</td>\n",
       "    </tr>\n",
       "    <tr>\n",
       "      <th>4</th>\n",
       "      <td>46</td>\n",
       "      <td>1</td>\n",
       "      <td>1</td>\n",
       "    </tr>\n",
       "  </tbody>\n",
       "</table>\n",
       "</div>"
      ],
      "text/plain": [
       "   age  affordibility  bought_insurance\n",
       "0   22              1                 0\n",
       "1   25              0                 0\n",
       "2   47              1                 1\n",
       "3   52              0                 0\n",
       "4   46              1                 1"
      ]
     },
     "execution_count": 2,
     "metadata": {},
     "output_type": "execute_result"
    }
   ],
   "source": [
    "df = pd.read_csv(\"insurance_data.csv\")\n",
    "df.head()"
   ]
  },
  {
   "cell_type": "code",
   "execution_count": 3,
   "metadata": {},
   "outputs": [
    {
     "data": {
      "text/plain": [
       "(28, 3)"
      ]
     },
     "execution_count": 3,
     "metadata": {},
     "output_type": "execute_result"
    }
   ],
   "source": [
    "df.shape"
   ]
  },
  {
   "cell_type": "code",
   "execution_count": 4,
   "metadata": {},
   "outputs": [],
   "source": [
    "from sklearn.model_selection import train_test_split\n",
    "X_train, X_test, y_train, y_test = train_test_split(df[['age','affordibility']],df.bought_insurance,test_size=0.2, random_state=25)"
   ]
  },
  {
   "cell_type": "code",
   "execution_count": 5,
   "metadata": {},
   "outputs": [
    {
     "data": {
      "text/plain": [
       "22"
      ]
     },
     "execution_count": 5,
     "metadata": {},
     "output_type": "execute_result"
    }
   ],
   "source": [
    "len(X_train)"
   ]
  },
  {
   "cell_type": "code",
   "execution_count": 6,
   "metadata": {},
   "outputs": [],
   "source": [
    "X_train_scaled = X_train.copy()\n",
    "X_train_scaled['age'] = X_train_scaled['age'] / 100\n",
    "\n",
    "X_test_scaled = X_test.copy()\n",
    "X_test_scaled['age'] = X_test_scaled['age'] / 100"
   ]
  },
  {
   "cell_type": "code",
   "execution_count": 7,
   "metadata": {},
   "outputs": [
    {
     "data": {
      "text/plain": [
       "array([0.99999386, 0.5       , 0.73105858])"
      ]
     },
     "execution_count": 7,
     "metadata": {},
     "output_type": "execute_result"
    }
   ],
   "source": [
    "def sigmoid_numpy(x):\n",
    "    return 1/(1+np.exp(-x))\n",
    "\n",
    "sigmoid_numpy(np.array([12,0,1]))"
   ]
  },
  {
   "cell_type": "code",
   "execution_count": 8,
   "metadata": {},
   "outputs": [],
   "source": [
    "# Define a value which is close to 0, add it to the '0' log number so as it may not become zero\n",
    "\n",
    "eplison = 1e-15"
   ]
  },
  {
   "cell_type": "code",
   "execution_count": 9,
   "metadata": {},
   "outputs": [],
   "source": [
    "# Define calculation above into a function\n",
    "\n",
    "def log_loss(y_true, y_predicted):\n",
    "    y_predicted_new = [max(i,eplison) for i in y_predicted]\n",
    "    y_predicted_new = [min(i,1-eplison) for i in y_predicted_new]\n",
    "    y_predicted_new = np.array(y_predicted_new)\n",
    "    return -np.mean(y_true*np.log(y_predicted_new)+(1-y_true)*np.log(1-y_predicted_new))"
   ]
  },
  {
   "cell_type": "code",
   "execution_count": 10,
   "metadata": {},
   "outputs": [],
   "source": [
    "class myNN:\n",
    "    def __init__(self):\n",
    "        self.w1 = 1\n",
    "        self.w2 = 1\n",
    "        self.bias = 0\n",
    "\n",
    "    def fit(self, X, y, epochs, loss_threshold):\n",
    "        self.w1, self.w2, self.bias = self.gradient_decent(X['age'], X['affordibility'], y, epochs, loss_threshold)\n",
    "\n",
    "    def predict(self, X_test):\n",
    "        weighted_sum = self.w1 * X_test['age'] + self.w2 * X_test['affordibility'] + self.bias\n",
    "        return sigmoid_numpy(weighted_sum)\n",
    "    \n",
    "    def gradient_decent(self, age, affordibility, y_true, epochs, loss_threshold):\n",
    "        # w1, w2, bias\n",
    "        w1 = w2 = 1\n",
    "        bias = 0\n",
    "        rate = 0.5\n",
    "        n = len(age)\n",
    "\n",
    "        for i in range(epochs):\n",
    "            weighted_sum = w1 * age + w2 * affordibility + bias\n",
    "            y_predicted = sigmoid_numpy(weighted_sum)\n",
    "            \n",
    "            loss = log_loss(y_true, y_predicted)\n",
    "\n",
    "            w1d = (1/n)*np.dot(np.transpose(age),(y_predicted - y_true))\n",
    "            w2d = (1/n)*np.dot(np.transpose(affordibility),(y_predicted - y_true))\n",
    "\n",
    "            bias_d = np.mean(y_predicted-y_true)\n",
    "\n",
    "            w1 = w1 - rate * w1d\n",
    "            w2 = w2 - rate * w2d\n",
    "            bias = bias - rate * bias_d\n",
    "\n",
    "            if i%50==0:\n",
    "                print(f'Epoch: {i}, w1: {w1}, w1: {w2}, bias: {bias}, loss: {loss}')\n",
    "\n",
    "            if loss<=loss_threshold:\n",
    "                print(f'Epoch: {i}, w1: {w1}, w1: {w2}, bias: {bias}, loss: {loss}')\n",
    "                break\n",
    "\n",
    "        return w1, w2, bias"
   ]
  },
  {
   "cell_type": "code",
   "execution_count": 11,
   "metadata": {},
   "outputs": [
    {
     "name": "stdout",
     "output_type": "stream",
     "text": [
      "Epoch: 0, w1: 0.974907633470177, w1: 0.948348125394529, bias: -0.11341867736368583, loss: 0.7113403233723417\n",
      "Epoch: 50, w1: 1.5033195541731388, w1: 1.108384790367645, bias: -1.2319047301235464, loss: 0.5675865113475955\n",
      "Epoch: 100, w1: 2.200713131760032, w1: 1.2941584023238903, bias: -1.6607009122062801, loss: 0.5390680417774752\n",
      "Epoch: 150, w1: 2.8495727769689085, w1: 1.3696895491572747, bias: -1.986105845859897, loss: 0.5176462164249294\n",
      "Epoch: 200, w1: 3.4430169708818035, w1: 1.404221862446503, bias: -2.2571369883752723, loss: 0.5005011269691375\n",
      "Epoch: 250, w1: 3.9824504946495765, w1: 1.4239127329321228, bias: -2.4943773659718005, loss: 0.48654089537617085\n",
      "Epoch: 300, w1: 4.472179522095915, w1: 1.438787986553552, bias: -2.707387811922373, loss: 0.4750814640632793\n",
      "Epoch: 350, w1: 4.917245868007634, w1: 1.4525660781176122, bias: -2.901176333556766, loss: 0.46561475306999006\n",
      "Epoch: 366, w1: 5.051047623653049, w1: 1.4569794548473887, bias: -2.9596534546250037, loss: 0.46293944095888917\n"
     ]
    }
   ],
   "source": [
    "customModel = myNN()\n",
    "customModel.fit(X_train_scaled, y_train, epochs=8000, loss_threshold=0.4631)"
   ]
  },
  {
   "cell_type": "code",
   "execution_count": 12,
   "metadata": {},
   "outputs": [
    {
     "data": {
      "text/plain": [
       "2     0.705020\n",
       "10    0.355836\n",
       "21    0.161599\n",
       "11    0.477919\n",
       "14    0.725586\n",
       "9     0.828987\n",
       "dtype: float64"
      ]
     },
     "execution_count": 12,
     "metadata": {},
     "output_type": "execute_result"
    }
   ],
   "source": [
    "customModel.predict(X_test_scaled)"
   ]
  },
  {
   "cell_type": "code",
   "execution_count": null,
   "metadata": {},
   "outputs": [],
   "source": []
  }
 ],
 "metadata": {
  "kernelspec": {
   "display_name": "base",
   "language": "python",
   "name": "python3"
  },
  "language_info": {
   "codemirror_mode": {
    "name": "ipython",
    "version": 3
   },
   "file_extension": ".py",
   "mimetype": "text/x-python",
   "name": "python",
   "nbconvert_exporter": "python",
   "pygments_lexer": "ipython3",
   "version": "3.11.5"
  }
 },
 "nbformat": 4,
 "nbformat_minor": 2
}
